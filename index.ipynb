{
 "cells": [
  {
   "cell_type": "markdown",
   "metadata": {
    "toc": true
   },
   "source": [
    "<h1>Table of Contents<span class=\"tocSkip\"></span></h1>\n",
    "<div class=\"toc\"><ul class=\"toc-item\"><li><span><a href=\"#SWBAT\" data-toc-modified-id=\"SWBAT-1\"><span class=\"toc-item-num\">1&nbsp;&nbsp;</span>SWBAT</a></span></li><li><span><a href=\"#Here-are-all-the-formulas-to-put-everything-in-perspective\" data-toc-modified-id=\"Here-are-all-the-formulas-to-put-everything-in-perspective-2\"><span class=\"toc-item-num\">2&nbsp;&nbsp;</span>Here are all the formulas to put everything in perspective</a></span><ul class=\"toc-item\"><li><ul class=\"toc-item\"><li><span><a href=\"#Slope\" data-toc-modified-id=\"Slope-2.0.1\"><span class=\"toc-item-num\">2.0.1&nbsp;&nbsp;</span>Slope</a></span></li><li><span><a href=\"#Intercept\" data-toc-modified-id=\"Intercept-2.0.2\"><span class=\"toc-item-num\">2.0.2&nbsp;&nbsp;</span>Intercept</a></span></li><li><span><a href=\"#R-squared\" data-toc-modified-id=\"R-squared-2.0.3\"><span class=\"toc-item-num\">2.0.3&nbsp;&nbsp;</span>R-squared</a></span></li><li><span><a href=\"#Prediction\" data-toc-modified-id=\"Prediction-2.0.4\"><span class=\"toc-item-num\">2.0.4&nbsp;&nbsp;</span>Prediction</a></span></li></ul></li></ul></li><li><span><a href=\"#Make-Predictions\" data-toc-modified-id=\"Make-Predictions-3\"><span class=\"toc-item-num\">3&nbsp;&nbsp;</span>Make Predictions</a></span></li><li><span><a href=\"#Level-up---Optional\" data-toc-modified-id=\"Level-up---Optional-4\"><span class=\"toc-item-num\">4&nbsp;&nbsp;</span>Level up - Optional</a></span></li><li><span><a href=\"#Summary\" data-toc-modified-id=\"Summary-5\"><span class=\"toc-item-num\">5&nbsp;&nbsp;</span>Summary</a></span></li></ul></div>"
   ]
  },
  {
   "cell_type": "markdown",
   "metadata": {},
   "source": [
    "# Regression Lab\n",
    "\n",
    "Now have all the necessary functions to calculate the slope, intercept, best-fit line, prediction and visualizations. In this lab you will put them all together to run a regression experiment and calculate model loss. \n",
    "\n",
    "## SWBAT\n",
    "\n",
    "* Run a complete regression analysis through code only. "
   ]
  },
  {
   "cell_type": "markdown",
   "metadata": {},
   "source": [
    "## Here are all the formulas to put everything in perspective\n",
    "\n",
    "#### Slope\n",
    "<img src=\"m.png\" width = 300>\n",
    "\n",
    "#### Intercept \n",
    "<img src=\"b.png\" width = 200>\n",
    "\n",
    "#### R-squared\n",
    "<img src=\"r2.png\" width = 400>\n",
    "\n",
    "#### Prediction\n",
    "![](pred.jpg)\n",
    "\n",
    "\n",
    "Use the functions created earlier to implement these formulas to run a regression analysis using X and Y as input variables. "
   ]
  },
  {
   "cell_type": "code",
   "execution_count": 8,
   "metadata": {},
   "outputs": [
    {
     "name": "stdout",
     "output_type": "stream",
     "text": [
      "Basic Regression Diagnostics\n",
      "----------------------------\n",
      "Slope: 0.56\n",
      "Y-Intercept: 6.33\n",
      "R-Squared: 0.97\n",
      "----------------------------\n",
      "Model: Y =  0.56 * X +  6.33\n"
     ]
    },
    {
     "data": {
      "image/png": "[encoded data removed]",
      "text/plain": [
       "<Figure size 432x288 with 1 Axes>"
      ]
     },
     "metadata": {
      "needs_background": "light"
     },
     "output_type": "display_data"
    }
   ],
   "source": [
    "import numpy as np\n",
    "import matplotlib.pyplot as plt\n",
    "# Combine all the functions created so far to run a complete regression experiment. \n",
    "# Produce an output similar to the one shown below. \n",
    "def Slope(x,y):\n",
    "    res = ( np.mean(x)*np.mean(y) - np.mean(x*y) \n",
    "          ) / ( np.mean(x)**2 - np.mean(x**2) ) \n",
    "    return res\n",
    "\n",
    "def Y_Intercept(x,y):\n",
    "    res = np.mean(y) - Slope(x,y)*np.mean(x)\n",
    "    return res\n",
    "\n",
    "def Y_predict(x,y):\n",
    "    res = x * Slope(x,y) + Y_Intercept(x,y)\n",
    "    return res\n",
    "\n",
    "def R_sq(x,y):\n",
    "    rss = np.sum( (y - Y_predict(x,y) )**2 )\n",
    "    tss = np.sum( (y - np.mean(y) )**2 )\n",
    "    return 1 - rss/tss\n",
    "\n",
    "X = np.array([1,2,3,4,5,6,7,8,9,10], dtype=np.float64)\n",
    "Y = np.array([7,7,8,9,9,10,10,11,11,12], dtype=np.float64)\n",
    "\n",
    "# main code\n",
    "print('Basic Regression Diagnostics')\n",
    "print('-'*28)\n",
    "print('Slope:', round(Slope(X,Y),2))\n",
    "print('Y-Intercept:', round(Y_Intercept(X,Y),2))\n",
    "print('R-Squared:', round(R_sq(X,Y),2))\n",
    "print('-'*28)\n",
    "print('Model: Y = ',round(Slope(X,Y),2),'* X + ',round(Y_Intercept(X,Y),2))\n",
    "plt.scatter(X,Y, color='b');\n",
    "plt.plot(X,Y_predict(X,Y), color='r');"
   ]
  },
  {
   "cell_type": "code",
   "execution_count": 70,
   "metadata": {},
   "outputs": [
    {
     "name": "stdout",
     "output_type": "stream",
     "text": [
      "Basic Regression Diagnostics\n",
      "----------------------------\n",
      "Slope: 0.56\n",
      "Y-Intercept: 6.33\n",
      "R-Squared: 0.97\n",
      "----------------------------\n",
      "Model: Y = 0.56 * X + 6.33\n"
     ]
    },
    {
     "data": {
      "image/png": "[encoded data removed]",
      "text/plain": [
       "<matplotlib.figure.Figure at 0x1a180b14a8>"
      ]
     },
     "metadata": {},
     "output_type": "display_data"
    }
   ],
   "source": [
    "# Basic Regression Diagnostics\n",
    "# ----------------------------\n",
    "# Slope: 0.56\n",
    "# Y-Intercept: 6.33\n",
    "# R-Squared: 0.97\n",
    "# ----------------------------\n",
    "# Model: Y = 0.56 * X + 6.33"
   ]
  },
  {
   "cell_type": "markdown",
   "metadata": {},
   "source": [
    "## Make Predictions\n",
    "\n",
    "Predict and plot the value of y using regression line above for a new value of x = 4.5."
   ]
  },
  {
   "cell_type": "code",
   "execution_count": null,
   "metadata": {},
   "outputs": [],
   "source": [
    "# Make prediction using given value and visualize on the scatter plot\n"
   ]
  },
  {
   "cell_type": "code",
   "execution_count": 10,
   "metadata": {},
   "outputs": [
    {
     "data": {
      "image/png": "[encoded data removed]",
      "text/plain": [
       "<Figure size 432x288 with 1 Axes>"
      ]
     },
     "metadata": {
      "needs_background": "light"
     },
     "output_type": "display_data"
    }
   ],
   "source": [
    "x_new = 4.5\n",
    "y_predict_new = x_new*Slope(X,Y)+Y_Intercept(X,Y)\n",
    "plt.scatter(X,Y, color='b');\n",
    "plt.plot(X,Y_predict(X,Y), color='brown');\n",
    "plt.scatter(x_new,y_predict_new, color='r');"
   ]
  },
  {
   "cell_type": "markdown",
   "metadata": {},
   "source": [
    "## Level up - Optional \n",
    "Load the \"heightWeight.csv\" dataset. Use the height as an independant and weight as a dependant variable and draw a regression line to data using your code above. Calculate your R-square for the model and try to predict new values of Y. "
   ]
  },
  {
   "cell_type": "markdown",
   "metadata": {},
   "source": [
    "## Summary\n",
    "\n",
    "In this lab, we ran a complete simple regression analysis experiment using functions created so far. Next We shall see how we can use python's built in modules to perform such analyses with a much higher level of sophistication. "
   ]
  },
  {
   "cell_type": "code",
   "execution_count": 14,
   "metadata": {},
   "outputs": [
    {
     "name": "stdout",
     "output_type": "stream",
     "text": [
      "Basic Regression Diagnostics\n",
      "----------------------------\n",
      "Slope: 5.54\n",
      "Y-Intercept: -204.48\n",
      "R-Squared: 0.96\n",
      "----------------------------\n",
      "Model: Y =  5.54 * X +  -204.48\n"
     ]
    },
    {
     "data": {
      "image/png": "[encoded data removed]",
      "text/plain": [
       "<Figure size 432x288 with 1 Axes>"
      ]
     },
     "metadata": {
      "needs_background": "light"
     },
     "output_type": "display_data"
    }
   ],
   "source": [
    "import pandas as pd\n",
    "df = pd.read_csv('heightWeight.csv')\n",
    "X = np.array(df.height)\n",
    "Y = np.array(df.Weight)\n",
    "\n",
    "print('Basic Regression Diagnostics')\n",
    "print('-'*28)\n",
    "print('Slope:', round(Slope(X,Y),2))\n",
    "print('Y-Intercept:', round(Y_Intercept(X,Y),2))\n",
    "print('R-Squared:', round(R_sq(X,Y),2))\n",
    "print('-'*28)\n",
    "print('Model: Y = ',round(Slope(X,Y),2),'* X + ',round(Y_Intercept(X,Y),2))\n",
    "plt.scatter(X,Y, color='b');\n",
    "plt.plot(X,Y_predict(X,Y), color='r');\n"
   ]
  },
  {
   "cell_type": "code",
   "execution_count": null,
   "metadata": {},
   "outputs": [],
   "source": []
  }
 ],
 "metadata": {
  "kernelspec": {
   "display_name": "Python 3",
   "language": "python",
   "name": "python3"
  },
  "language_info": {
   "codemirror_mode": {
    "name": "ipython",
    "version": 3
   },
   "file_extension": ".py",
   "mimetype": "text/x-python",
   "name": "python",
   "nbconvert_exporter": "python",
   "pygments_lexer": "ipython3",
   "version": "3.6.6"
  },
  "toc": {
   "base_numbering": 1,
   "nav_menu": {},
   "number_sections": true,
   "sideBar": true,
   "skip_h1_title": true,
   "title_cell": "Table of Contents",
   "title_sidebar": "Contents",
   "toc_cell": true,
   "toc_position": {},
   "toc_section_display": true,
   "toc_window_display": false
  },
  "varInspector": {
   "cols": {
    "lenName": 16,
    "lenType": 16,
    "lenVar": 40
   },
   "kernels_config": {
    "python": {
     "delete_cmd_postfix": "",
     "delete_cmd_prefix": "del ",
     "library": "var_list.py",
     "varRefreshCmd": "print(var_dic_list())"
    },
    "r": {
     "delete_cmd_postfix": ") ",
     "delete_cmd_prefix": "rm(",
     "library": "var_list.r",
     "varRefreshCmd": "cat(var_dic_list()) "
    }
   },
   "types_to_exclude": [
    "module",
    "function",
    "builtin_function_or_method",
    "instance",
    "_Feature"
   ],
   "window_display": false
  }
 },
 "nbformat": 4,
 "nbformat_minor": 2
}
